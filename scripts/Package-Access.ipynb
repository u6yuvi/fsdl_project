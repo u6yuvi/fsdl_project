{
 "cells": [
  {
   "cell_type": "markdown",
   "id": "9d9fd313",
   "metadata": {},
   "source": [
    "# Imports"
   ]
  },
  {
   "cell_type": "code",
   "execution_count": null,
   "id": "62bd650a",
   "metadata": {},
   "outputs": [],
   "source": [
    "import glob\n",
    "import os\n",
    "from IPython.display import Image as IPImage\n",
    "from PIL import Image\n",
    "from IPython.display import display"
   ]
  },
  {
   "cell_type": "code",
   "execution_count": null,
   "id": "82619e3b",
   "metadata": {},
   "outputs": [],
   "source": [
    "from semsearch.retrieval import search"
   ]
  },
  {
   "cell_type": "code",
   "execution_count": null,
   "id": "f8cfc73c",
   "metadata": {},
   "outputs": [],
   "source": [
    "from semsearch.predict import make_predictions"
   ]
  },
  {
   "cell_type": "code",
   "execution_count": null,
   "id": "ec17d7c3",
   "metadata": {},
   "outputs": [],
   "source": [
    "from semsearch.encoding import clip_encoding"
   ]
  },
  {
   "cell_type": "markdown",
   "id": "0061a411",
   "metadata": {},
   "source": [
    "## Step-1 Get data"
   ]
  },
  {
   "cell_type": "code",
   "execution_count": null,
   "id": "af2d858c",
   "metadata": {},
   "outputs": [],
   "source": [
    "img_names = list(glob.glob('semantic_search/semsearch/datasets/*.jpg'))\n",
    "print(\"Images:\", len(img_names))"
   ]
  },
  {
   "cell_type": "markdown",
   "id": "9c8150c9",
   "metadata": {},
   "source": [
    "## Step-2 Generate embeddings for lookup"
   ]
  },
  {
   "cell_type": "code",
   "execution_count": null,
   "id": "f79b2602",
   "metadata": {},
   "outputs": [],
   "source": [
    "embeddings = clip_encoding.get_image_embeddings(img_names[:20])\n",
    "corpus = {\"embeddings\" :embeddings,\"img_names\":img_names[:20]}"
   ]
  },
  {
   "cell_type": "markdown",
   "id": "ff6b6d44",
   "metadata": {},
   "source": [
    "## Step-3 Generate Query and its Embedding"
   ]
  },
  {
   "cell_type": "code",
   "execution_count": null,
   "id": "e9b615f8",
   "metadata": {},
   "outputs": [],
   "source": [
    "query_text =  \"Two dogs playing in the snow\"\n",
    "query_embed = clip_encoding.get_text_embeddings(query_text)\n",
    "query = {\"query_text\":query_text,\"query_embed\":query_embed}"
   ]
  },
  {
   "cell_type": "markdown",
   "id": "41abb2c2",
   "metadata": {},
   "source": [
    "## Step-4 Seach using Cosine Simiarity"
   ]
  },
  {
   "cell_type": "code",
   "execution_count": null,
   "id": "9d105faf",
   "metadata": {},
   "outputs": [],
   "source": [
    "from semsearch.retrieval import search"
   ]
  },
  {
   "cell_type": "code",
   "execution_count": null,
   "id": "bcda2518",
   "metadata": {},
   "outputs": [],
   "source": [
    "hits = search.cosine_search(query,corpus,k=2)"
   ]
  },
  {
   "cell_type": "code",
   "execution_count": null,
   "id": "028e5594",
   "metadata": {},
   "outputs": [],
   "source": [
    "hits"
   ]
  },
  {
   "cell_type": "code",
   "execution_count": null,
   "id": "92aebe35",
   "metadata": {},
   "outputs": [],
   "source": [
    "print(\"Query:\")\n",
    "display(query[\"query_text\"])\n",
    "for hit in hits[:1]:\n",
    "    retrieved_img = corpus[\"img_names\"][hit['corpus_id']]\n",
    "    print(retrieved_img)\n",
    "#     img = Image.open(retrieved_img)\n",
    "#     img.show() \n",
    "    display(IPImage(os.path.join(\".\", img_names[hit['corpus_id']]), width=200))"
   ]
  },
  {
   "cell_type": "markdown",
   "id": "e8d018d3",
   "metadata": {},
   "source": [
    "## OR Direct call predict method"
   ]
  },
  {
   "cell_type": "code",
   "execution_count": null,
   "id": "5f143c68",
   "metadata": {},
   "outputs": [],
   "source": [
    "from semsearch.load import load_corpus,load_model\n",
    "corpus = load_corpus()\n",
    "model = load_model()"
   ]
  },
  {
   "cell_type": "code",
   "execution_count": null,
   "id": "dc375a2c",
   "metadata": {},
   "outputs": [],
   "source": [
    "from semsearch.predict import make_predictions\n",
    "query_text =  \"Two dogs playing in the snow\"\n",
    "hits = make_predictions(query_text)\n",
    "hits"
   ]
  },
  {
   "cell_type": "code",
   "execution_count": null,
   "id": "7a81fa82",
   "metadata": {},
   "outputs": [],
   "source": []
  },
  {
   "cell_type": "markdown",
   "id": "3a76efd8",
   "metadata": {},
   "source": [
    "# API call\n",
    "\n",
    "Ensure server is up and running\n",
    "!python3 ../semantic_search/ml_api/run.py"
   ]
  },
  {
   "cell_type": "code",
   "execution_count": null,
   "id": "6e92f46c",
   "metadata": {},
   "outputs": [],
   "source": [
    "!curl -X 'POST' \\\n",
    "  'http://localhost:5000/v1/predictions' \\\n",
    "  -H 'accept: */*' \\\n",
    "  -H 'Content-Type: application/json' \\\n",
    "  -d '\"Two dogs playing in the snow\"'"
   ]
  }
 ],
 "metadata": {
  "kernelspec": {
   "display_name": "Python 3.7.13 ('fsdl_project')",
   "language": "python",
   "name": "python3"
  },
  "language_info": {
   "codemirror_mode": {
    "name": "ipython",
    "version": 3
   },
   "file_extension": ".py",
   "mimetype": "text/x-python",
   "name": "python",
   "nbconvert_exporter": "python",
   "pygments_lexer": "ipython3",
   "version": "3.7.13"
  },
  "vscode": {
   "interpreter": {
    "hash": "c780ef0594e65f238ce4b7709383a32ec817000a69d6eb9e5729600e2ac1a6db"
   }
  }
 },
 "nbformat": 4,
 "nbformat_minor": 5
}
